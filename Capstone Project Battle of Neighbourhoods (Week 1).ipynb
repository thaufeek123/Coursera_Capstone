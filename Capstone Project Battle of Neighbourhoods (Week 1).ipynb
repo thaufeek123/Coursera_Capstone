{
 "cells": [
  {
   "cell_type": "markdown",
   "metadata": {},
   "source": [
    "# Capstone Project - The Battle of the Neighborhoods (Week 1)\n",
    "\n",
    "## Aggregation of Cabs at right place right time to maximize revenue, customer satisfaction & to delight cab drivers ## \n",
    "### This assignment is carried out as a part of Applied Data Science Capstone by IBM/Coursera"
   ]
  },
  {
   "cell_type": "markdown",
   "metadata": {},
   "source": [
    "## Table of contents\n",
    "* [Introduction: Business Problem](#introduction)\n",
    "* [Data](#data)\n",
    "* [Methodology](#methodology)\n",
    "* [Analysis](#analysis)\n",
    "* [Results and Discussion](#results)\n",
    "* [Conclusion](#conclusion)"
   ]
  },
  {
   "cell_type": "markdown",
   "metadata": {},
   "source": [
    "## Introduction: Business Problem <a name=\"introduction\"></a>"
   ]
  },
  {
   "attachments": {
    "image.png": {
     "image/png": "[encoded data removed]"
    }
   },
   "cell_type": "markdown",
   "metadata": {},
   "source": [
    "This assignment is aimed at deriving a solution with the help of location based data for typical problem faced by cab aggregators which not only impacts their revenue/profitability but also their reputation in this business – Even though the maximum impact of the issue is felt by the cab aggregator, it does impacts the two other key stakeholders in this ecosystem namely Cab drivers and Customers\n",
    "It’s a kind of vicious cycle or triangle where the issue percolates from one stakeholder to other thereby leading all the key stakeholders to be unhappy (which I’ll explain below how)\n",
    "\n",
    "![image.png](attachment:image.png)\n",
    "\n",
    "#### Cab Aggregator Dilemma ####\n",
    "Cab aggregators like Uber,Ola etc. faces a quite frequent situation of not having sufficient number of cabs to meet the demand at a given location. On the other hand, the aggregators would have to scratch their head to efficiently use their resources (Cab drivers) in a situation where too many cabs would be in a contention for a ride where the supply is too low\n",
    "At one end demand outclass supply and in another, it’s vice-versa\n",
    "   \n",
    "#### Customer’s Grievance/Frustration ####\n",
    "Customers (especially loyal customers) tend to believe that they get the service at the click of a button no matter what time or location it is but it turns to be quite opposite especially during peak hours and on holidays – In my personal experience, earlier I used to hope that I’ll get a ride for sure and the hope remains a hope even after hours of trying. Later I figured out it’s better to find alternative ways though the service may (i) cost a bit more, (ii) annoying but the shortcomings are overcome by the guarantee of service availability\n",
    "\n",
    "#### Cab Driver’s Concern ####\n",
    "Cab drivers are primarily concerned about expending fuel/gasoline or resources (energy, depreciation etc) without attaching any benefits to them and secondly about the length of the trips (since the incentive plan is associated with no. of trips completed in a specific time frame) i.e.<br>\n",
    "(i)\tCab drivers wouldn't like to travel a long distance before picking up the ride (especially first ride) since it results in consumption/wastage of significant amount of fuel – So they would wait for a ride within the vicinity of their residences or in the closer proximities rather than moving to the area where the demand is high<br> \n",
    "\n",
    "(ii)\tEven if they move to the area (after wasting significant time) where they perceive demands to be likely high (e.g. airport, railway stations) they may not be aware of the time-table of flight departures/arrivals that could result in further loss of time<br> \n",
    "\n",
    "(iii)\tMost of the incentive packages specifies the number of trips to be completed within a specific period of time as the eligibility factor – So if their time is wasted due to above mentioned reasons they may tend to go off from duty before the usual sign off time<br>\n",
    "\n",
    "(iv)\tFinally, they don't want the last ride to be in opposite direction of their home or to be far away from their home since they have to make empty ride from the drop point to their results which cost them dearly due to consumption of significant amount of fuel<br> \n",
    "\n",
    "### Matter of Interest ###\n",
    "Cab Aggregator would be interested in figuring out a way to co-ordinate better with the cab drivers so as to ensure\n",
    "(i)\tCab drivers are available at the right place right time<br>\n",
    "(ii)\tEfficiently manage trips so as to minimize the fuel consumption or wait-time on empty rides (by developing an model that could predict what would be the trip flow, no. of possible trips, avg. time taken for each etc. if a cab start from a given point on a given day)<br> \n",
    "(iii)\tReinforce belief in customer regarding service availability<br>\n",
    "  \n",
    "This exercise would potentially help all the three key stakeholders to achieve win-win situation with<br>                      (i)          Cab Aggregators revenue/profit shoots up along with reputation & growth of loyal customer base<br>\n",
    "(ii)         Cab drivers income could increase & time on road could come down<br>\n",
    "(iii)        Customer can save time, plan trip wisely and can have peace of mind<br>\n",
    "\n",
    "### Solution Approach ###\n",
    "1.\tWhen the cab driver starts the day, his location/post code is identified with the help of GPS<br>\n",
    "2.\tMachine Algorithm, to identify nearby location with huge demand/trends/buzzes<br> \n",
    "3.\tMachine Algorithm to give a picture of how the day would look like based on the place where they start like route map, no.of rides, time for each ride etc based on the historical data patterns <b>(Not in Scope of this exercise)</b>\n"
   ]
  },
  {
   "cell_type": "markdown",
   "metadata": {},
   "source": [
    "## Data <a name=\"data\"></a>"
   ]
  },
  {
   "cell_type": "markdown",
   "metadata": {},
   "source": [
    "### Data Requirements ###\n",
    "\n",
    "I am considering the key data required to understand the demand in a given area will be <br>\n",
    "\n",
    "(i)\tPopular places in a given post code or neighbourhood<br>\n",
    "(ii)\tBuzzing or Trending places in a given post code <br>\n",
    "\n",
    "The above two key piece of information can be obtained with the help of foursquare api<br>\n",
    "\n",
    "There are other pieces of info that are required to confirm that the above buzzing centres does transpires into a demand \n",
    "(i)\tNo of cabs available in the given area and whether is it all occupied or free?<br>\n",
    "\n",
    "(ii)\tHow many requests that can’t be fulfilled?<br>\n",
    "(iii)\tPosition of the starting point of the customer<br>\n",
    "\n",
    "(The above mentioned data’s are internal to Cab aggregator – hence there’s neither a need to scrape from external site or data base nor to cleanse them) – Since these are internal data’s which can’t be scraped for this exercise, I’m not going to show the same in the code to prove how this model works in combination of foursquare and Cab aggregator data\n"
   ]
  },
  {
   "cell_type": "code",
   "execution_count": null,
   "metadata": {},
   "outputs": [],
   "source": []
  }
 ],
 "metadata": {
  "kernelspec": {
   "display_name": "Python",
   "language": "python",
   "name": "conda-env-python-py"
  },
  "language_info": {
   "codemirror_mode": {
    "name": "ipython",
    "version": 3
   },
   "file_extension": ".py",
   "mimetype": "text/x-python",
   "name": "python",
   "nbconvert_exporter": "python",
   "pygments_lexer": "ipython3",
   "version": "3.6.7"
  }
 },
 "nbformat": 4,
 "nbformat_minor": 4
}
